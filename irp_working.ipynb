{
 "cells": [
  {
   "cell_type": "code",
   "execution_count": 7,
   "metadata": {},
   "outputs": [
    {
     "name": "stdout",
     "output_type": "stream",
     "text": [
      "Epoch 1, Training Loss: 0.677776784613981, Validation Error: 0.44897959183673475\n",
      "Epoch 26, Training Loss: 0.6712712920318216, Validation Error: 0.44897959183673475\n",
      "Epoch 51, Training Loss: 0.6713396072387695, Validation Error: 0.44897959183673475\n",
      "Epoch 76, Training Loss: 0.6710510421607454, Validation Error: 0.44897959183673475\n",
      "Epoch 101, Training Loss: 0.6708597435789593, Validation Error: 0.44897959183673475\n",
      "Epoch 126, Training Loss: 0.6709900977247852, Validation Error: 0.44897959183673475\n"
     ]
    },
    {
     "data": {
      "image/png": "[encoded data removed]",
      "text/plain": [
       "<Figure size 600x300 with 1 Axes>"
      ]
     },
     "metadata": {},
     "output_type": "display_data"
    },
    {
     "name": "stdout",
     "output_type": "stream",
     "text": [
      "Training Accuracy: 0.6101694915254238\n",
      "Test Accuracy: 0.56\n"
     ]
    },
    {
     "name": "stderr",
     "output_type": "stream",
     "text": [
      "C:\\Users\\samto\\AppData\\Local\\Temp\\ipykernel_1032\\2027508555.py:86: UserWarning: To copy construct from a tensor, it is recommended to use sourceTensor.clone().detach() or sourceTensor.clone().detach().requires_grad_(True), rather than torch.tensor(sourceTensor).\n",
      "  sequences = [torch.tensor(seq, dtype=torch.float32) for seq in sequences]\n"
     ]
    },
    {
     "name": "stdout",
     "output_type": "stream",
     "text": [
      "Epoch 1, Training Loss: 0.6942288387252624, Validation Error: 0.35365853658536583\n",
      "Epoch 26, Training Loss: 0.6865864353007581, Validation Error: 0.30487804878048785\n",
      "Epoch 51, Training Loss: 0.6855055108127823, Validation Error: 0.30487804878048785\n",
      "Epoch 76, Training Loss: 0.6852852357439247, Validation Error: 0.30487804878048785\n",
      "Epoch 101, Training Loss: 0.6852589910288891, Validation Error: 0.30487804878048785\n",
      "Epoch 126, Training Loss: 0.6853381503059204, Validation Error: 0.30487804878048785\n"
     ]
    },
    {
     "name": "stderr",
     "output_type": "stream",
     "text": [
      "C:\\Users\\samto\\AppData\\Local\\Temp\\ipykernel_1032\\2027508555.py:86: UserWarning: To copy construct from a tensor, it is recommended to use sourceTensor.clone().detach() or sourceTensor.clone().detach().requires_grad_(True), rather than torch.tensor(sourceTensor).\n",
      "  sequences = [torch.tensor(seq, dtype=torch.float32) for seq in sequences]\n"
     ]
    },
    {
     "name": "stdout",
     "output_type": "stream",
     "text": [
      "Epoch 1, Training Loss: 0.6757285869482792, Validation Error: 0.41463414634146345\n",
      "Epoch 26, Training Loss: 0.66266050194249, Validation Error: 0.41463414634146345\n",
      "Epoch 51, Training Loss: 0.6619306231990005, Validation Error: 0.41463414634146345\n",
      "Epoch 76, Training Loss: 0.6623651663462321, Validation Error: 0.41463414634146345\n",
      "Epoch 101, Training Loss: 0.6618874376470393, Validation Error: 0.41463414634146345\n",
      "Epoch 126, Training Loss: 0.6621193156097874, Validation Error: 0.41463414634146345\n"
     ]
    },
    {
     "name": "stderr",
     "output_type": "stream",
     "text": [
      "C:\\Users\\samto\\AppData\\Local\\Temp\\ipykernel_1032\\2027508555.py:86: UserWarning: To copy construct from a tensor, it is recommended to use sourceTensor.clone().detach() or sourceTensor.clone().detach().requires_grad_(True), rather than torch.tensor(sourceTensor).\n",
      "  sequences = [torch.tensor(seq, dtype=torch.float32) for seq in sequences]\n"
     ]
    },
    {
     "name": "stdout",
     "output_type": "stream",
     "text": [
      "Epoch 1, Training Loss: 0.6822801700487793, Validation Error: 0.46341463414634143\n",
      "Epoch 26, Training Loss: 0.6692551330998842, Validation Error: 0.46341463414634143\n",
      "Epoch 51, Training Loss: 0.6692190223377243, Validation Error: 0.46341463414634143\n",
      "Epoch 76, Training Loss: 0.6685102251377183, Validation Error: 0.46341463414634143\n",
      "Epoch 101, Training Loss: 0.6689018850867082, Validation Error: 0.46341463414634143\n",
      "Epoch 126, Training Loss: 0.668850154287902, Validation Error: 0.46341463414634143\n"
     ]
    },
    {
     "name": "stderr",
     "output_type": "stream",
     "text": [
      "C:\\Users\\samto\\AppData\\Local\\Temp\\ipykernel_1032\\2027508555.py:86: UserWarning: To copy construct from a tensor, it is recommended to use sourceTensor.clone().detach() or sourceTensor.clone().detach().requires_grad_(True), rather than torch.tensor(sourceTensor).\n",
      "  sequences = [torch.tensor(seq, dtype=torch.float32) for seq in sequences]\n"
     ]
    },
    {
     "name": "stdout",
     "output_type": "stream",
     "text": [
      "Epoch 1, Training Loss: 0.6889407301383903, Validation Error: 0.3902439024390244\n",
      "Epoch 26, Training Loss: 0.6764756334226545, Validation Error: 0.3902439024390244\n",
      "Epoch 51, Training Loss: 0.6766407411873884, Validation Error: 0.3902439024390244\n",
      "Epoch 76, Training Loss: 0.6765846320198662, Validation Error: 0.3902439024390244\n",
      "Epoch 101, Training Loss: 0.6766454461497738, Validation Error: 0.3902439024390244\n",
      "Epoch 126, Training Loss: 0.6768960291491454, Validation Error: 0.3902439024390244\n"
     ]
    },
    {
     "name": "stderr",
     "output_type": "stream",
     "text": [
      "C:\\Users\\samto\\AppData\\Local\\Temp\\ipykernel_1032\\2027508555.py:86: UserWarning: To copy construct from a tensor, it is recommended to use sourceTensor.clone().detach() or sourceTensor.clone().detach().requires_grad_(True), rather than torch.tensor(sourceTensor).\n",
      "  sequences = [torch.tensor(seq, dtype=torch.float32) for seq in sequences]\n"
     ]
    },
    {
     "name": "stdout",
     "output_type": "stream",
     "text": [
      "Epoch 1, Training Loss: 0.6869948419341205, Validation Error: 0.46341463414634143\n",
      "Epoch 26, Training Loss: 0.6753774373780782, Validation Error: 0.46341463414634143\n",
      "Epoch 51, Training Loss: 0.6753790353916568, Validation Error: 0.46341463414634143\n",
      "Epoch 76, Training Loss: 0.6759850594539132, Validation Error: 0.46341463414634143\n",
      "Epoch 101, Training Loss: 0.6754531206295729, Validation Error: 0.46341463414634143\n",
      "Epoch 126, Training Loss: 0.6755836838063243, Validation Error: 0.46341463414634143\n",
      "Cross-Validation Accuracies: [0.6951219512195121, 0.5853658536585366, 0.5365853658536586, 0.6097560975609756, 0.5365853658536586]\n",
      "Average Cross-Validation Accuracy: 0.5926829268292683\n"
     ]
    }
   ],
   "source": [
    "import torch\n",
    "import numpy as np\n",
    "import matplotlib.pyplot as plt\n",
    "import torch.nn as nn\n",
    "import torch.optim as optim\n",
    "from sklearn.preprocessing import StandardScaler\n",
    "from sklearn.metrics import accuracy_score\n",
    "import pandas as pd\n",
    "import tkinter as tk\n",
    "from tkinter import filedialog\n",
    "import pandas_ta as ta\n",
    "from sklearn.model_selection import TimeSeriesSplit\n",
    "from torch.nn.utils.rnn import pad_sequence\n",
    "\n",
    "# Initialize the Tkinter root window\n",
    "root = tk.Tk()\n",
    "root.wm_attributes('-topmost', 1)\n",
    "root.withdraw()\n",
    "\n",
    "# Normalize data and assign movement direction values\n",
    "def prep(dataset):\n",
    "    scaler = StandardScaler()\n",
    "\n",
    "    dataset['RSI (14D)'] = ta.rsi(dataset['Close'], length=14)\n",
    "    dataset['20 Day CCI'] = ta.cci(high=dataset['High'], low=dataset['Low'], \n",
    "                                   close=dataset['Close'], length=20)\n",
    "    dataset['Williams %R'] = ta.willr(high=dataset['High'], low=dataset['Low'], \n",
    "                                      close=dataset['Close'], length=14)\n",
    "    dataset['EMA (5D)'] = dataset['Close'].ewm(span=5, adjust=False).mean()\n",
    "\n",
    "    bollinger = ta.bbands(dataset['Close'], length=20, std=2)\n",
    "    dataset['BB_upper'] = bollinger['BBU_20_2.0']\n",
    "    dataset['BB_middle'] = bollinger['BBM_20_2.0']\n",
    "    dataset['BB_lower'] = bollinger['BBL_20_2.0']\n",
    "\n",
    "    features = ['Open', 'High', 'Low', 'Close', 'Volume', 'RSI (14D)', \n",
    "                '20 Day CCI', 'Williams %R']\n",
    "    \n",
    "    dataset[features] = dataset[features].astype(float)\n",
    "    dataset[features] = scaler.fit_transform(dataset[features])\n",
    "\n",
    "    dataset['MA10'] = dataset['Close'].rolling(window=10).mean()\n",
    "    dataset['MA50'] = dataset['Close'].rolling(window=50).mean()\n",
    "    \n",
    "    dataset['Target'] = np.where(dataset['Close'].shift(-1) > dataset['Close'], 1, 0)\n",
    "    prepared_data = dataset.dropna().tail(503)\n",
    "    return prepared_data, scaler\n",
    "\n",
    "# Define LSTM Model class\n",
    "class LSTM_Model(nn.Module):\n",
    "    def __init__(self, input_layer, hidden_layer, output_layer):\n",
    "        super(LSTM_Model, self).__init__()\n",
    "        self.hidden_layer = hidden_layer\n",
    "        #self.dropout_rate = dropout_rate\n",
    "        self.lstm = nn.LSTM(input_layer, hidden_layer, batch_first=True, bidirectional=False)\n",
    "        self.linear_layer = nn.Linear(hidden_layer, output_layer)\n",
    "        self.hidden_cell = (torch.zeros(1,1,self.hidden_layer).cuda(),\n",
    "                            torch.zeros(1,1,self.hidden_layer).cuda())\n",
    "\n",
    "    def forward(self, input_tensor):\n",
    "        self.hidden_cell = (torch.zeros(1, input_tensor.size(0), self.hidden_layer).cuda(), \n",
    "                            torch.zeros(1, input_tensor.size(0), self.hidden_layer).cuda())\n",
    "        out, self.hidden_cell = self.lstm(input_tensor, self.hidden_cell)\n",
    "        lstm_out_last = out[:, -1, :]\n",
    "        predicted_values = self.linear_layer(lstm_out_last)\n",
    "        return predicted_values\n",
    "\n",
    "# Create sequences for input data and corresponding labels\n",
    "def create_sequence(input_data, sequence_length):\n",
    "    sequences = []\n",
    "    labels = []\n",
    "    for i in range(len(input_data) - sequence_length):\n",
    "        sequence = input_data[i : i + sequence_length, :-1]\n",
    "        label = input_data[i + sequence_length, -1]\n",
    "        sequences.append(sequence)\n",
    "        labels.append(label)\n",
    "\n",
    "    sequences = np.array(sequences)\n",
    "    labels = np.array(labels)\n",
    "\n",
    "    return sequences, labels\n",
    "\n",
    "# Convert sequences and labels to PyTorch tensors\n",
    "def convert_to_tensor(sequences, labels):\n",
    "    # Convert sequences and labels to tensors\n",
    "    sequences = [torch.tensor(seq, dtype=torch.float32) for seq in sequences]\n",
    "    labels = torch.tensor(labels, dtype=torch.float32).view(-1, 1)\n",
    "    \n",
    "    # Pad sequences\n",
    "    sequences = pad_sequence(sequences, batch_first=True)\n",
    "    \n",
    "    return sequences, labels\n",
    "\n",
    "# Train the model with data provided\n",
    "def trainer(model, train_data, val_data, loss_func, opt, epochs, device='cuda'):\n",
    "    train_errors, val_errors = [], []\n",
    "\n",
    "    for epoch in range(epochs):\n",
    "        model.train()\n",
    "        epoch_loss = 0\n",
    "        for sequence, labels in train_data:\n",
    "            opt.zero_grad()\n",
    "            model.hidden_cell = (torch.zeros(1, 1, model.hidden_layer).to(device),\n",
    "                                 torch.zeros(1, 1, model.hidden_layer).to(device))\n",
    "            \n",
    "            sequence = sequence.to(device)\n",
    "            labels = labels.to(device)\n",
    "\n",
    "            y = model(sequence)\n",
    "            loss = loss_func(y, labels)\n",
    "            loss.backward()\n",
    "            opt.step()\n",
    "\n",
    "            epoch_loss += loss.item()\n",
    "\n",
    "        # Compute average loss for the epoch\n",
    "        train_errors.append(epoch_loss / len(train_data))\n",
    "\n",
    "        # Validate the model\n",
    "        val_accuracy = evaluate_model(model, val_data, device)\n",
    "        val_errors.append(1 - val_accuracy)  # Convert accuracy to error\n",
    "\n",
    "        # Print progress\n",
    "        if epoch % 25 == 1:\n",
    "            print(f'Epoch {epoch}, Training Loss: {epoch_loss / len(train_data)}, Validation Error: {1 - val_accuracy}')\n",
    "    \n",
    "    return train_errors, val_errors\n",
    "\n",
    "def evaluate_model(model, data_loader, device='cuda'):\n",
    "    model.eval()\n",
    "    predictions, labels = [], []\n",
    "    with torch.no_grad():\n",
    "        for sequence, label in data_loader:\n",
    "            sequence = sequence.float().to(device)\n",
    "            output = model(sequence)\n",
    "            pred = torch.round(torch.sigmoid(output)).cpu().numpy()\n",
    "            predictions.extend(pred.flatten())\n",
    "            labels.extend(label.numpy())\n",
    "    return accuracy_score(labels, predictions)\n",
    "\n",
    "# Time Series Cross-Validation\n",
    "def time_series_cv(model_class, sequences, labels, n_splits, epochs, device='cuda'):\n",
    "    tscv = TimeSeriesSplit(n_splits=n_splits)\n",
    "    accuracies = []\n",
    "\n",
    "    for train_index, test_index in tscv.split(sequences):\n",
    "        train_sequences, test_sequences = [sequences[i] for i in train_index], [sequences[i] for i in test_index]\n",
    "        train_labels, test_labels = [labels[i] for i in train_index], [labels[i] for i in test_index]\n",
    "        \n",
    "        # Convert to tensors\n",
    "        train_sequences, train_labels = convert_to_tensor(train_sequences, train_labels)\n",
    "        test_sequences, test_labels = convert_to_tensor(test_sequences, test_labels)\n",
    "\n",
    "        # Create dataLoaders\n",
    "        train_data = torch.utils.data.DataLoader(list(zip(train_sequences, train_labels)), shuffle=True, batch_size=1)\n",
    "        test_data = torch.utils.data.DataLoader(list(zip(test_sequences, test_labels)), shuffle=False, batch_size=1)\n",
    "        \n",
    "        # Initialize model\n",
    "        model = model_class(input_layer=10, hidden_layer=150, output_layer=1).to(device)\n",
    "        opt = optim.Adam(model.parameters(), lr=0.001, weight_decay=0.01)\n",
    "        loss_func = nn.BCEWithLogitsLoss()\n",
    "\n",
    "        # Train and evaluate\n",
    "        train_errors, val_errors = trainer(model, train_data, test_data, loss_func, opt, epochs, device)\n",
    "        test_accuracy = evaluate_model(model, test_data, device)\n",
    "        accuracies.append(test_accuracy)\n",
    "    \n",
    "    return accuracies\n",
    "\n",
    "# Load and prepare data\n",
    "file_path = filedialog.askopenfilename(parent=root, title=\"Select A File\")\n",
    "ticker = pd.read_csv(file_path)\n",
    "ticker, scaler = prep(ticker)\n",
    "\n",
    "# Create sequences\n",
    "sequence_length = 10\n",
    "sequences, labels = create_sequence(ticker[['Open', 'High', 'Low', 'Close', 'Volume', \n",
    "                                            'RSI (14D)', '20 Day CCI', 'Williams %R',\n",
    "                                              'MA10', 'MA50', 'Target']].values, sequence_length)\n",
    "\n",
    "# Convert sequences and labels to tensors\n",
    "sequences, labels = convert_to_tensor(sequences, labels)\n",
    "\n",
    "# Split into training, validation, and test sets\n",
    "train_size = int(len(sequences) * 0.6)\n",
    "val_size = int(len(sequences) * 0.2)\n",
    "train_sequences = sequences[:train_size]\n",
    "val_sequences = sequences[train_size:train_size + val_size]\n",
    "test_sequences = sequences[train_size + val_size:]\n",
    "\n",
    "train_data = torch.utils.data.DataLoader(list(zip(train_sequences, labels[:train_size])), shuffle=True, batch_size=1)\n",
    "val_data = torch.utils.data.DataLoader(list(zip(val_sequences, labels[train_size:train_size + val_size])), shuffle=False, batch_size=1)\n",
    "test_data = torch.utils.data.DataLoader(list(zip(test_sequences, labels[train_size + val_size:])), shuffle=False, batch_size=1)\n",
    "\n",
    "# Initialize model\n",
    "model = LSTM_Model(input_layer=10, hidden_layer=50, output_layer=1, ).to('cuda')\n",
    "loss_func = nn.BCEWithLogitsLoss()\n",
    "opt = optim.Adam(model.parameters(), lr=0.001, weight_decay=0.01)\n",
    "\n",
    "# Train\n",
    "epochs = 150\n",
    "train_errors, val_errors = trainer(model, train_data, val_data, loss_func, opt, epochs, device='cuda')\n",
    "\n",
    "plt.figure(figsize=(6, 3))\n",
    "plt.plot(range(1, epochs + 1), train_errors, label='Training Error')\n",
    "plt.plot(range(1, epochs + 1), val_errors, label='Validation Error')\n",
    "plt.xlabel('Epochs')\n",
    "plt.ylabel('Error')\n",
    "plt.title('Learning Curves')\n",
    "plt.legend()\n",
    "plt.grid(True)\n",
    "plt.show()\n",
    "\n",
    "train_accuracy = evaluate_model(model, train_data)\n",
    "print(f'Training Accuracy: {train_accuracy}')\n",
    "\n",
    "test_accuracy = evaluate_model(model, test_data)\n",
    "print(f'Test Accuracy: {test_accuracy}')\n",
    "\n",
    "# Perform Time Series Cross-Validation\n",
    "n_splits = 5\n",
    "accuracies = time_series_cv(LSTM_Model, sequences, labels, n_splits, epochs, device='cuda')\n",
    "print(f'Cross-Validation Accuracies: {accuracies}')\n",
    "print(f'Average Cross-Validation Accuracy: {np.mean(accuracies)}')\n",
    "\n"
   ]
  },
  {
   "cell_type": "code",
   "execution_count": 6,
   "metadata": {},
   "outputs": [
    {
     "ename": "SyntaxError",
     "evalue": "invalid syntax (2776894995.py, line 3)",
     "output_type": "error",
     "traceback": [
      "\u001b[1;36m  Cell \u001b[1;32mIn[6], line 3\u001b[1;36m\u001b[0m\n\u001b[1;33m    new = ticker.where(date = )\u001b[0m\n\u001b[1;37m                              ^\u001b[0m\n\u001b[1;31mSyntaxError\u001b[0m\u001b[1;31m:\u001b[0m invalid syntax\n"
     ]
    }
   ],
   "source": [
    "ticker.tail(30)"
   ]
  }
 ],
 "metadata": {
  "kernelspec": {
   "display_name": "base",
   "language": "python",
   "name": "python3"
  },
  "language_info": {
   "codemirror_mode": {
    "name": "ipython",
    "version": 3
   },
   "file_extension": ".py",
   "mimetype": "text/x-python",
   "name": "python",
   "nbconvert_exporter": "python",
   "pygments_lexer": "ipython3",
   "version": "3.11.9"
  }
 },
 "nbformat": 4,
 "nbformat_minor": 2
}
