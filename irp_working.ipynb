{
 "cells": [
  {
   "cell_type": "code",
   "execution_count": 104,
   "metadata": {},
   "outputs": [
    {
     "name": "stderr",
     "output_type": "stream",
     "text": [
      "c:\\Users\\samto\\anaconda3\\Lib\\site-packages\\torch\\nn\\modules\\rnn.py:83: UserWarning: dropout option adds dropout after all but last recurrent layer, so non-zero dropout expects num_layers greater than 1, but got dropout=0.2 and num_layers=1\n",
      "  warnings.warn(\"dropout option adds dropout after all but last \"\n"
     ]
    },
    {
     "name": "stdout",
     "output_type": "stream",
     "text": [
      "Epoch 1, Training Loss: 0.6859221110671042, Validation Error: 0.5659574468085107\n",
      "Epoch 26, Training Loss: 0.6828250921261529, Validation Error: 0.3872340425531915\n",
      "Epoch 51, Training Loss: 0.6831983601861492, Validation Error: 0.3872340425531915\n",
      "Epoch 76, Training Loss: 0.6831964786352834, Validation Error: 0.3872340425531915\n",
      "Epoch 101, Training Loss: 0.6830703042858561, Validation Error: 0.3872340425531915\n",
      "Epoch 126, Training Loss: 0.6828956150435322, Validation Error: 0.3872340425531915\n"
     ]
    },
    {
     "data": {
      "image/png": "[encoded data removed]",
      "text/plain": [
       "<Figure size 600x300 with 1 Axes>"
      ]
     },
     "metadata": {},
     "output_type": "display_data"
    },
    {
     "name": "stdout",
     "output_type": "stream",
     "text": [
      "Training Accuracy: 0.5728429985855729\n",
      "Test Accuracy: 0.5527426160337553\n"
     ]
    },
    {
     "name": "stderr",
     "output_type": "stream",
     "text": [
      "C:\\Users\\samto\\AppData\\Local\\Temp\\ipykernel_16732\\2175581791.py:86: UserWarning: To copy construct from a tensor, it is recommended to use sourceTensor.clone().detach() or sourceTensor.clone().detach().requires_grad_(True), rather than torch.tensor(sourceTensor).\n",
      "  sequences = [torch.tensor(seq, dtype=torch.float32) for seq in sequences]\n",
      "c:\\Users\\samto\\anaconda3\\Lib\\site-packages\\torch\\nn\\modules\\rnn.py:83: UserWarning: dropout option adds dropout after all but last recurrent layer, so non-zero dropout expects num_layers greater than 1, but got dropout=0.2 and num_layers=1\n",
      "  warnings.warn(\"dropout option adds dropout after all but last \"\n"
     ]
    },
    {
     "name": "stdout",
     "output_type": "stream",
     "text": [
      "Epoch 1, Training Loss: 0.6791833558274274, Validation Error: 0.4744897959183674\n",
      "Epoch 26, Training Loss: 0.6778223996785417, Validation Error: 0.4744897959183674\n",
      "Epoch 51, Training Loss: 0.6771309702240642, Validation Error: 0.4744897959183674\n",
      "Epoch 76, Training Loss: 0.6758328521970528, Validation Error: 0.4744897959183674\n",
      "Epoch 101, Training Loss: 0.6784448343605253, Validation Error: 0.4744897959183674\n",
      "Epoch 126, Training Loss: 0.6763209793435868, Validation Error: 0.4744897959183674\n"
     ]
    },
    {
     "name": "stderr",
     "output_type": "stream",
     "text": [
      "C:\\Users\\samto\\AppData\\Local\\Temp\\ipykernel_16732\\2175581791.py:86: UserWarning: To copy construct from a tensor, it is recommended to use sourceTensor.clone().detach() or sourceTensor.clone().detach().requires_grad_(True), rather than torch.tensor(sourceTensor).\n",
      "  sequences = [torch.tensor(seq, dtype=torch.float32) for seq in sequences]\n",
      "c:\\Users\\samto\\anaconda3\\Lib\\site-packages\\torch\\nn\\modules\\rnn.py:83: UserWarning: dropout option adds dropout after all but last recurrent layer, so non-zero dropout expects num_layers greater than 1, but got dropout=0.2 and num_layers=1\n",
      "  warnings.warn(\"dropout option adds dropout after all but last \"\n"
     ]
    },
    {
     "name": "stdout",
     "output_type": "stream",
     "text": [
      "Epoch 1, Training Loss: 0.6879425057127506, Validation Error: 0.4285714285714286\n",
      "Epoch 26, Training Loss: 0.6863850009592274, Validation Error: 0.4285714285714286\n",
      "Epoch 51, Training Loss: 0.6865500527092173, Validation Error: 0.4285714285714286\n",
      "Epoch 76, Training Loss: 0.6895478474188454, Validation Error: 0.4285714285714286\n",
      "Epoch 101, Training Loss: 0.6863746810563003, Validation Error: 0.4285714285714286\n",
      "Epoch 126, Training Loss: 0.6863010607188261, Validation Error: 0.4285714285714286\n"
     ]
    },
    {
     "name": "stderr",
     "output_type": "stream",
     "text": [
      "C:\\Users\\samto\\AppData\\Local\\Temp\\ipykernel_16732\\2175581791.py:86: UserWarning: To copy construct from a tensor, it is recommended to use sourceTensor.clone().detach() or sourceTensor.clone().detach().requires_grad_(True), rather than torch.tensor(sourceTensor).\n",
      "  sequences = [torch.tensor(seq, dtype=torch.float32) for seq in sequences]\n",
      "c:\\Users\\samto\\anaconda3\\Lib\\site-packages\\torch\\nn\\modules\\rnn.py:83: UserWarning: dropout option adds dropout after all but last recurrent layer, so non-zero dropout expects num_layers greater than 1, but got dropout=0.2 and num_layers=1\n",
      "  warnings.warn(\"dropout option adds dropout after all but last \"\n"
     ]
    },
    {
     "name": "stdout",
     "output_type": "stream",
     "text": [
      "Epoch 1, Training Loss: 0.6864719815716123, Validation Error: 0.4693877551020408\n",
      "Epoch 26, Training Loss: 0.6859005356803158, Validation Error: 0.40306122448979587\n",
      "Epoch 51, Training Loss: 0.6863216500596951, Validation Error: 0.40306122448979587\n",
      "Epoch 76, Training Loss: 0.6856849261145099, Validation Error: 0.40306122448979587\n",
      "Epoch 101, Training Loss: 0.6867466234111947, Validation Error: 0.40306122448979587\n",
      "Epoch 126, Training Loss: 0.6861122239463019, Validation Error: 0.40306122448979587\n"
     ]
    },
    {
     "name": "stderr",
     "output_type": "stream",
     "text": [
      "C:\\Users\\samto\\AppData\\Local\\Temp\\ipykernel_16732\\2175581791.py:86: UserWarning: To copy construct from a tensor, it is recommended to use sourceTensor.clone().detach() or sourceTensor.clone().detach().requires_grad_(True), rather than torch.tensor(sourceTensor).\n",
      "  sequences = [torch.tensor(seq, dtype=torch.float32) for seq in sequences]\n",
      "c:\\Users\\samto\\anaconda3\\Lib\\site-packages\\torch\\nn\\modules\\rnn.py:83: UserWarning: dropout option adds dropout after all but last recurrent layer, so non-zero dropout expects num_layers greater than 1, but got dropout=0.2 and num_layers=1\n",
      "  warnings.warn(\"dropout option adds dropout after all but last \"\n"
     ]
    },
    {
     "name": "stdout",
     "output_type": "stream",
     "text": [
      "Epoch 1, Training Loss: 0.6839137224639084, Validation Error: 0.4642857142857143\n",
      "Epoch 26, Training Loss: 0.6831079900946369, Validation Error: 0.3877551020408163\n",
      "Epoch 51, Training Loss: 0.6831881247905794, Validation Error: 0.3877551020408163\n",
      "Epoch 76, Training Loss: 0.6831664081752831, Validation Error: 0.3877551020408163\n",
      "Epoch 101, Training Loss: 0.6832466340580011, Validation Error: 0.3877551020408163\n",
      "Epoch 126, Training Loss: 0.683171459271311, Validation Error: 0.3877551020408163\n"
     ]
    },
    {
     "name": "stderr",
     "output_type": "stream",
     "text": [
      "C:\\Users\\samto\\AppData\\Local\\Temp\\ipykernel_16732\\2175581791.py:86: UserWarning: To copy construct from a tensor, it is recommended to use sourceTensor.clone().detach() or sourceTensor.clone().detach().requires_grad_(True), rather than torch.tensor(sourceTensor).\n",
      "  sequences = [torch.tensor(seq, dtype=torch.float32) for seq in sequences]\n",
      "c:\\Users\\samto\\anaconda3\\Lib\\site-packages\\torch\\nn\\modules\\rnn.py:83: UserWarning: dropout option adds dropout after all but last recurrent layer, so non-zero dropout expects num_layers greater than 1, but got dropout=0.2 and num_layers=1\n",
      "  warnings.warn(\"dropout option adds dropout after all but last \"\n"
     ]
    },
    {
     "name": "stdout",
     "output_type": "stream",
     "text": [
      "Epoch 1, Training Loss: 0.6840542417516058, Validation Error: 0.4387755102040817\n",
      "Epoch 26, Training Loss: 0.6808896812393367, Validation Error: 0.4387755102040817\n",
      "Epoch 51, Training Loss: 0.6810526322736381, Validation Error: 0.4387755102040817\n",
      "Epoch 76, Training Loss: 0.6807946360850989, Validation Error: 0.4387755102040817\n",
      "Epoch 101, Training Loss: 0.6828198196140941, Validation Error: 0.4387755102040817\n",
      "Epoch 126, Training Loss: 0.6807647464476669, Validation Error: 0.4387755102040817\n",
      "Cross-Validation Accuracies: [0.5255102040816326, 0.5714285714285714, 0.5969387755102041, 0.6122448979591837, 0.5612244897959183]\n",
      "Average Cross-Validation Accuracy: 0.5734693877551019\n"
     ]
    }
   ],
   "source": [
    "import torch\n",
    "import numpy as np\n",
    "import matplotlib.pyplot as plt\n",
    "import torch.nn as nn\n",
    "import torch.optim as optim\n",
    "from sklearn.preprocessing import StandardScaler\n",
    "from sklearn.metrics import accuracy_score\n",
    "import pandas as pd\n",
    "import tkinter as tk\n",
    "from tkinter import filedialog\n",
    "import pandas_ta as ta\n",
    "from sklearn.model_selection import TimeSeriesSplit\n",
    "from torch.nn.utils.rnn import pad_sequence\n",
    "\n",
    "# Initialize the Tkinter root window\n",
    "root = tk.Tk()\n",
    "root.wm_attributes('-topmost', 1)\n",
    "root.withdraw()\n",
    "\n",
    "# Normalize data and assign movement direction values\n",
    "def prep(dataset):\n",
    "    scaler = StandardScaler()\n",
    "\n",
    "    dataset['RSI (14D)'] = ta.rsi(dataset['Close'], length=14)\n",
    "    dataset['20 Day CCI'] = ta.cci(high=dataset['High'], low=dataset['Low'], \n",
    "                                   close=dataset['Close'], length=20)\n",
    "    dataset['Williams %R'] = ta.willr(high=dataset['High'], low=dataset['Low'], \n",
    "                                      close=dataset['Close'], length=14)\n",
    "    dataset['EMA (5D)'] = dataset['Close'].ewm(span=5, adjust=False).mean()\n",
    "\n",
    "    bollinger = ta.bbands(dataset['Close'], length=20, std=2)\n",
    "    dataset['BB_upper'] = bollinger['BBU_20_2.0']\n",
    "    dataset['BB_middle'] = bollinger['BBM_20_2.0']\n",
    "    dataset['BB_lower'] = bollinger['BBL_20_2.0']\n",
    "\n",
    "    features = ['Open', 'High', 'Low', 'Close', 'Volume', 'RSI (14D)', \n",
    "                '20 Day CCI', 'Williams %R']\n",
    "    \n",
    "    dataset[features] = dataset[features].astype(float)\n",
    "    dataset[features] = scaler.fit_transform(dataset[features])\n",
    "\n",
    "    dataset['MA10'] = dataset['Close'].rolling(window=10).mean()\n",
    "    dataset['MA50'] = dataset['Close'].rolling(window=50).mean()\n",
    "    \n",
    "    dataset['Target'] = np.where(dataset['Close'].shift(-1) > dataset['Close'], 1, 0)\n",
    "    prepared_data = dataset.dropna()\n",
    "    return prepared_data, scaler\n",
    "\n",
    "# Define LSTM Model class\n",
    "class LSTM_Model(nn.Module):\n",
    "    def __init__(self, input_layer, hidden_layer, output_layer, dropout_rate=0.2):\n",
    "        super(LSTM_Model, self).__init__()\n",
    "        self.hidden_layer = hidden_layer\n",
    "        self.dropout_rate = dropout_rate\n",
    "        self.lstm = nn.LSTM(input_layer, hidden_layer, batch_first=True, dropout=dropout_rate, bidirectional=False)\n",
    "        self.linear_layer = nn.Linear(hidden_layer, output_layer)\n",
    "        self.hidden_cell = (torch.zeros(1,1,self.hidden_layer).cuda(),\n",
    "                            torch.zeros(1,1,self.hidden_layer).cuda())\n",
    "\n",
    "    def forward(self, input_tensor):\n",
    "        self.hidden_cell = (torch.zeros(1, input_tensor.size(0), self.hidden_layer).cuda(), \n",
    "                            torch.zeros(1, input_tensor.size(0), self.hidden_layer).cuda())\n",
    "        out, self.hidden_cell = self.lstm(input_tensor, self.hidden_cell)\n",
    "        lstm_out_last = out[:, -1, :]\n",
    "        predicted_values = self.linear_layer(lstm_out_last)\n",
    "        return predicted_values\n",
    "\n",
    "# Create sequences for input data and corresponding labels\n",
    "def create_sequence(input_data, sequence_length):\n",
    "    sequences = []\n",
    "    labels = []\n",
    "    for i in range(len(input_data) - sequence_length):\n",
    "        sequence = input_data[i : i + sequence_length, :-1]\n",
    "        label = input_data[i + sequence_length, -1]\n",
    "        sequences.append(sequence)\n",
    "        labels.append(label)\n",
    "\n",
    "    sequences = np.array(sequences)\n",
    "    labels = np.array(labels)\n",
    "\n",
    "    return sequences, labels\n",
    "\n",
    "# Convert sequences and labels to PyTorch tensors\n",
    "def convert_to_tensor(sequences, labels):\n",
    "    # Convert sequences and labels to tensors\n",
    "    sequences = [torch.tensor(seq, dtype=torch.float32) for seq in sequences]\n",
    "    labels = torch.tensor(labels, dtype=torch.float32).view(-1, 1)\n",
    "    \n",
    "    # Pad sequences\n",
    "    sequences = pad_sequence(sequences, batch_first=True)\n",
    "    \n",
    "    return sequences, labels\n",
    "\n",
    "# Train the model with data provided\n",
    "def trainer(model, train_data, val_data, loss_func, opt, epochs, device='cuda'):\n",
    "    train_errors, val_errors = [], []\n",
    "\n",
    "    for epoch in range(epochs):\n",
    "        model.train()\n",
    "        epoch_loss = 0\n",
    "        for sequence, labels in train_data:\n",
    "            opt.zero_grad()\n",
    "            model.hidden_cell = (torch.zeros(1, 1, model.hidden_layer).to(device),\n",
    "                                 torch.zeros(1, 1, model.hidden_layer).to(device))\n",
    "            \n",
    "            sequence = sequence.to(device)\n",
    "            labels = labels.to(device)\n",
    "\n",
    "            y = model(sequence)\n",
    "            loss = loss_func(y, labels)\n",
    "            loss.backward()\n",
    "            opt.step()\n",
    "\n",
    "            epoch_loss += loss.item()\n",
    "\n",
    "        # Compute average loss for the epoch\n",
    "        train_errors.append(epoch_loss / len(train_data))\n",
    "\n",
    "        # Validate the model\n",
    "        val_accuracy = evaluate_model(model, val_data, device)\n",
    "        val_errors.append(1 - val_accuracy)  # Convert accuracy to error\n",
    "\n",
    "        # Print progress\n",
    "        if epoch % 25 == 1:\n",
    "            print(f'Epoch {epoch}, Training Loss: {epoch_loss / len(train_data)}, Validation Error: {1 - val_accuracy}')\n",
    "    \n",
    "    return train_errors, val_errors\n",
    "\n",
    "def evaluate_model(model, data_loader, device='cuda'):\n",
    "    model.eval()\n",
    "    predictions, labels = [], []\n",
    "    with torch.no_grad():\n",
    "        for sequence, label in data_loader:\n",
    "            sequence = sequence.float().to(device)\n",
    "            output = model(sequence)\n",
    "            pred = torch.round(torch.sigmoid(output)).cpu().numpy()\n",
    "            predictions.extend(pred.flatten())\n",
    "            labels.extend(label.numpy())\n",
    "    return accuracy_score(labels, predictions)\n",
    "\n",
    "# Time Series Cross-Validation\n",
    "def time_series_cv(model_class, sequences, labels, n_splits, epochs, device='cuda'):\n",
    "    tscv = TimeSeriesSplit(n_splits=n_splits)\n",
    "    accuracies = []\n",
    "\n",
    "    for train_index, test_index in tscv.split(sequences):\n",
    "        train_sequences, test_sequences = [sequences[i] for i in train_index], [sequences[i] for i in test_index]\n",
    "        train_labels, test_labels = [labels[i] for i in train_index], [labels[i] for i in test_index]\n",
    "        \n",
    "        # Convert to tensors\n",
    "        train_sequences, train_labels = convert_to_tensor(train_sequences, train_labels)\n",
    "        test_sequences, test_labels = convert_to_tensor(test_sequences, test_labels)\n",
    "\n",
    "        # Create dataLoaders\n",
    "        train_data = torch.utils.data.DataLoader(list(zip(train_sequences, train_labels)), shuffle=True, batch_size=1)\n",
    "        test_data = torch.utils.data.DataLoader(list(zip(test_sequences, test_labels)), shuffle=False, batch_size=1)\n",
    "        \n",
    "        # Initialize model\n",
    "        model = model_class(input_layer=10, hidden_layer=150, output_layer=1, dropout_rate=0.2).to(device)\n",
    "        opt = optim.Adam(model.parameters(), lr=0.001, weight_decay=0.01)\n",
    "        loss_func = nn.BCEWithLogitsLoss()\n",
    "\n",
    "        # Train and evaluate\n",
    "        train_errors, val_errors = trainer(model, train_data, test_data, loss_func, opt, epochs, device)\n",
    "        test_accuracy = evaluate_model(model, test_data, device)\n",
    "        accuracies.append(test_accuracy)\n",
    "    \n",
    "    return accuracies\n",
    "\n",
    "# Load and prepare data\n",
    "file_path = filedialog.askopenfilename(parent=root, title=\"Select A File\")\n",
    "ticker = pd.read_csv(file_path)\n",
    "ticker, scaler = prep(ticker)\n",
    "\n",
    "# Create sequences\n",
    "sequence_length = 10\n",
    "sequences, labels = create_sequence(ticker[['Open', 'High', 'Low', 'Close', 'Volume', \n",
    "                                            'RSI (14D)', '20 Day CCI', 'Williams %R',\n",
    "                                              'MA10', 'MA50', 'Target']].values, sequence_length)\n",
    "\n",
    "# Convert sequences and labels to tensors\n",
    "sequences, labels = convert_to_tensor(sequences, labels)\n",
    "\n",
    "# Split into training, validation, and test sets\n",
    "train_size = int(len(sequences) * 0.6)\n",
    "val_size = int(len(sequences) * 0.2)\n",
    "train_sequences = sequences[:train_size]\n",
    "val_sequences = sequences[train_size:train_size + val_size]\n",
    "test_sequences = sequences[train_size + val_size:]\n",
    "\n",
    "train_data = torch.utils.data.DataLoader(list(zip(train_sequences, labels[:train_size])), shuffle=True, batch_size=1)\n",
    "val_data = torch.utils.data.DataLoader(list(zip(val_sequences, labels[train_size:train_size + val_size])), shuffle=False, batch_size=1)\n",
    "test_data = torch.utils.data.DataLoader(list(zip(test_sequences, labels[train_size + val_size:])), shuffle=False, batch_size=1)\n",
    "\n",
    "# Initialize model\n",
    "model = LSTM_Model(input_layer=10, hidden_layer=50, output_layer=1, dropout_rate=0.2).to('cuda')\n",
    "loss_func = nn.BCEWithLogitsLoss()\n",
    "opt = optim.Adam(model.parameters(), lr=0.001, weight_decay=0.01)\n",
    "\n",
    "# Train\n",
    "epochs = 150\n",
    "train_errors, val_errors = trainer(model, train_data, val_data, loss_func, opt, epochs, device='cuda')\n",
    "\n",
    "plt.figure(figsize=(6, 3))\n",
    "plt.plot(range(1, epochs + 1), train_errors, label='Training Error')\n",
    "plt.plot(range(1, epochs + 1), val_errors, label='Validation Error')\n",
    "plt.xlabel('Epochs')\n",
    "plt.ylabel('Error')\n",
    "plt.title('Learning Curves')\n",
    "plt.legend()\n",
    "plt.grid(True)\n",
    "plt.show()\n",
    "\n",
    "train_accuracy = evaluate_model(model, train_data)\n",
    "print(f'Training Accuracy: {train_accuracy}')\n",
    "\n",
    "test_accuracy = evaluate_model(model, test_data)\n",
    "print(f'Test Accuracy: {test_accuracy}')\n",
    "\n",
    "# Perform Time Series Cross-Validation\n",
    "n_splits = 5\n",
    "accuracies = time_series_cv(LSTM_Model, sequences, labels, n_splits, epochs, device='cuda')\n",
    "print(f'Cross-Validation Accuracies: {accuracies}')\n",
    "print(f'Average Cross-Validation Accuracy: {np.mean(accuracies)}')\n",
    "\n"
   ]
  },
  {
   "cell_type": "code",
   "execution_count": 77,
   "metadata": {},
   "outputs": [
    {
     "name": "stderr",
     "output_type": "stream",
     "text": [
      "C:\\Users\\samto\\AppData\\Local\\Temp\\ipykernel_16732\\3158429686.py:114: UserWarning: To copy construct from a tensor, it is recommended to use sourceTensor.clone().detach() or sourceTensor.clone().detach().requires_grad_(True), rather than torch.tensor(sourceTensor).\n",
      "  sequence = torch.tensor(sequence).float().cuda()\n"
     ]
    },
    {
     "name": "stdout",
     "output_type": "stream",
     "text": [
      "Baseline Accuracy: 0.5020661157024794\n"
     ]
    },
    {
     "name": "stderr",
     "output_type": "stream",
     "text": [
      "C:\\Users\\samto\\AppData\\Local\\Temp\\ipykernel_16732\\3158429686.py:114: UserWarning: To copy construct from a tensor, it is recommended to use sourceTensor.clone().detach() or sourceTensor.clone().detach().requires_grad_(True), rather than torch.tensor(sourceTensor).\n",
      "  sequence = torch.tensor(sequence).float().cuda()\n",
      "C:\\Users\\samto\\AppData\\Local\\Temp\\ipykernel_16732\\3158429686.py:114: UserWarning: To copy construct from a tensor, it is recommended to use sourceTensor.clone().detach() or sourceTensor.clone().detach().requires_grad_(True), rather than torch.tensor(sourceTensor).\n",
      "  sequence = torch.tensor(sequence).float().cuda()\n"
     ]
    },
    {
     "name": "stdout",
     "output_type": "stream",
     "text": [
      "Feature: Open, Importance: 0.01446280991735538\n"
     ]
    },
    {
     "name": "stderr",
     "output_type": "stream",
     "text": [
      "C:\\Users\\samto\\AppData\\Local\\Temp\\ipykernel_16732\\3158429686.py:114: UserWarning: To copy construct from a tensor, it is recommended to use sourceTensor.clone().detach() or sourceTensor.clone().detach().requires_grad_(True), rather than torch.tensor(sourceTensor).\n",
      "  sequence = torch.tensor(sequence).float().cuda()\n"
     ]
    },
    {
     "name": "stdout",
     "output_type": "stream",
     "text": [
      "Feature: High, Importance: 0.0020661157024792765\n"
     ]
    },
    {
     "name": "stderr",
     "output_type": "stream",
     "text": [
      "C:\\Users\\samto\\AppData\\Local\\Temp\\ipykernel_16732\\3158429686.py:114: UserWarning: To copy construct from a tensor, it is recommended to use sourceTensor.clone().detach() or sourceTensor.clone().detach().requires_grad_(True), rather than torch.tensor(sourceTensor).\n",
      "  sequence = torch.tensor(sequence).float().cuda()\n"
     ]
    },
    {
     "name": "stdout",
     "output_type": "stream",
     "text": [
      "Feature: Low, Importance: 0.02066115702479332\n"
     ]
    },
    {
     "name": "stderr",
     "output_type": "stream",
     "text": [
      "C:\\Users\\samto\\AppData\\Local\\Temp\\ipykernel_16732\\3158429686.py:114: UserWarning: To copy construct from a tensor, it is recommended to use sourceTensor.clone().detach() or sourceTensor.clone().detach().requires_grad_(True), rather than torch.tensor(sourceTensor).\n",
      "  sequence = torch.tensor(sequence).float().cuda()\n"
     ]
    },
    {
     "name": "stdout",
     "output_type": "stream",
     "text": [
      "Feature: Close, Importance: 0.018595041322314043\n"
     ]
    },
    {
     "name": "stderr",
     "output_type": "stream",
     "text": [
      "C:\\Users\\samto\\AppData\\Local\\Temp\\ipykernel_16732\\3158429686.py:114: UserWarning: To copy construct from a tensor, it is recommended to use sourceTensor.clone().detach() or sourceTensor.clone().detach().requires_grad_(True), rather than torch.tensor(sourceTensor).\n",
      "  sequence = torch.tensor(sequence).float().cuda()\n"
     ]
    },
    {
     "name": "stdout",
     "output_type": "stream",
     "text": [
      "Feature: Volume, Importance: -0.018595041322314043\n"
     ]
    },
    {
     "name": "stderr",
     "output_type": "stream",
     "text": [
      "C:\\Users\\samto\\AppData\\Local\\Temp\\ipykernel_16732\\3158429686.py:114: UserWarning: To copy construct from a tensor, it is recommended to use sourceTensor.clone().detach() or sourceTensor.clone().detach().requires_grad_(True), rather than torch.tensor(sourceTensor).\n",
      "  sequence = torch.tensor(sequence).float().cuda()\n"
     ]
    },
    {
     "name": "stdout",
     "output_type": "stream",
     "text": [
      "Feature: RSI (14D), Importance: -0.01446280991735538\n"
     ]
    },
    {
     "name": "stderr",
     "output_type": "stream",
     "text": [
      "C:\\Users\\samto\\AppData\\Local\\Temp\\ipykernel_16732\\3158429686.py:114: UserWarning: To copy construct from a tensor, it is recommended to use sourceTensor.clone().detach() or sourceTensor.clone().detach().requires_grad_(True), rather than torch.tensor(sourceTensor).\n",
      "  sequence = torch.tensor(sequence).float().cuda()\n"
     ]
    },
    {
     "name": "stdout",
     "output_type": "stream",
     "text": [
      "Feature: 20 Day CCI, Importance: 0.0\n"
     ]
    },
    {
     "name": "stderr",
     "output_type": "stream",
     "text": [
      "C:\\Users\\samto\\AppData\\Local\\Temp\\ipykernel_16732\\3158429686.py:114: UserWarning: To copy construct from a tensor, it is recommended to use sourceTensor.clone().detach() or sourceTensor.clone().detach().requires_grad_(True), rather than torch.tensor(sourceTensor).\n",
      "  sequence = torch.tensor(sequence).float().cuda()\n"
     ]
    },
    {
     "name": "stdout",
     "output_type": "stream",
     "text": [
      "Feature: Williams %R, Importance: -0.008264462809917328\n",
      "Feature Importances (sorted):\n",
      "Low: 0.02066115702479332\n",
      "Close: 0.018595041322314043\n",
      "Open: 0.01446280991735538\n",
      "High: 0.0020661157024792765\n",
      "20 Day CCI: 0.0\n",
      "Williams %R: -0.008264462809917328\n",
      "RSI (14D): -0.01446280991735538\n",
      "Volume: -0.018595041322314043\n"
     ]
    }
   ],
   "source": [
    "import copy\n",
    "\n",
    "baseline_predictions = predictor(model, test_data)\n",
    "baseline_accuracy = accuracy_score(test_labels, baseline_predictions)\n",
    "print(f'Baseline Accuracy: {baseline_accuracy}')\n",
    "\n",
    "\n",
    "def permutation_importance(model, test_data, test_labels, sequence_length, features, scaler):\n",
    "    baseline_predictions = predictor(model, test_data)\n",
    "    baseline_accuracy = accuracy_score(test_labels, baseline_predictions)\n",
    "    feature_importances = {}\n",
    "    \n",
    "    for feature_idx, feature in enumerate(features):\n",
    "        shuffled_test_data = copy.deepcopy(ticker)\n",
    "        \n",
    "        # Shuffle the specific feature column\n",
    "        shuffled_test_data[feature] = np.random.permutation(shuffled_test_data[feature].values)\n",
    "        \n",
    "        # Create sequences for shuffled data\n",
    "        shuffled_sequences = create_sequence(shuffled_test_data[features + ['Target']].values, sequence_length)\n",
    "        \n",
    "        # Split shuffled data into test sequences\n",
    "        shuffled_test_data = torch.utils.data.DataLoader(shuffled_sequences[train_size:], shuffle=False, batch_size=1)\n",
    "        \n",
    "        # Get predictions with shuffled data\n",
    "        shuffled_predictions = predictor(model, shuffled_test_data)\n",
    "        \n",
    "        # Calculate the accuracy with shuffled data\n",
    "        shuffled_accuracy = accuracy_score(test_labels, shuffled_predictions)\n",
    "        \n",
    "        # Calculate importance as the drop in accuracy\n",
    "        feature_importance = baseline_accuracy - shuffled_accuracy\n",
    "        feature_importances[feature] = feature_importance\n",
    "        print(f'Feature: {feature}, Importance: {feature_importance}')\n",
    "    \n",
    "    return feature_importances\n",
    "\n",
    "features = ['Open', 'High', 'Low', 'Close', 'Volume', 'RSI (14D)', \n",
    "              '20 Day CCI', 'Williams %R']\n",
    "\n",
    "feature_importances = permutation_importance(model, test_data, test_labels, sequence_length, features, scaler)\n",
    "\n",
    "# Sort and print the feature importances\n",
    "sorted_importances = sorted(feature_importances.items(), key=lambda x: x[1], reverse=True)\n",
    "print(\"Feature Importances (sorted):\")\n",
    "for feature, importance in sorted_importances:\n",
    "    print(f'{feature}: {importance}')"
   ]
  }
 ],
 "metadata": {
  "kernelspec": {
   "display_name": "base",
   "language": "python",
   "name": "python3"
  },
  "language_info": {
   "codemirror_mode": {
    "name": "ipython",
    "version": 3
   },
   "file_extension": ".py",
   "mimetype": "text/x-python",
   "name": "python",
   "nbconvert_exporter": "python",
   "pygments_lexer": "ipython3",
   "version": "3.11.9"
  }
 },
 "nbformat": 4,
 "nbformat_minor": 2
}
