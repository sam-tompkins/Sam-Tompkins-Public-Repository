{
 "cells": [
  {
   "cell_type": "code",
   "execution_count": 35,
   "metadata": {},
   "outputs": [],
   "source": [
    "\n",
    "import torch\n",
    "import numpy as np\n",
    "import matplotlib.pyplot as plt\n",
    "import torch.nn as nn\n",
    "import torch.optim as optim\n",
    "from sklearn.preprocessing import StandardScaler\n",
    "from sklearn.metrics import accuracy_score\n",
    "import pandas as pd\n",
    "import tkinter as tk\n",
    "from tkinter import filedialog\n",
    "import pandas_ta as ta\n",
    "from sklearn.model_selection import TimeSeriesSplit\n",
    "from torch.nn.utils.rnn import pad_sequence\n",
    "\n",
    "root = tk.Tk()\n",
    "root.wm_attributes('-topmost', 1)\n",
    "root.withdraw()\n",
    "\n",
    "\n",
    "file_path = filedialog.askopenfilename(parent=root, title=\"Select A File\")\n",
    "ticker = pd.read_csv(file_path)\n",
    "\n",
    "macro_path = filedialog.askopenfilename(parent=root, title=\"Import Macroeconomic Data\")\n",
    "macro_data = pd.read_csv(macro_path)\n",
    "\n",
    "ticker['Date'] = pd.to_datetime(ticker['Date'], dayfirst=True)\n",
    "ticker.set_index('Date', inplace=True)\n",
    "monthly = ticker[ticker.index.is_month_start]\n",
    "\n",
    "macro_data['date'] = pd.to_datetime(macro_data['date'], dayfirst=True)\n",
    "macro_data.set_index('date', inplace=True)\n",
    "\n",
    "merge_data = monthly.join(macro_data, how='inner')\n",
    "\n",
    "merge_data.to_csv(r\"C:\\Users\\samto\\Desktop\\IRP DATA-20240724T195545Z-001\\IRP DATA\\stock_data_with_macro.csv\")\n",
    "\n",
    "\n"
   ]
  }
 ],
 "metadata": {
  "kernelspec": {
   "display_name": "base",
   "language": "python",
   "name": "python3"
  },
  "language_info": {
   "codemirror_mode": {
    "name": "ipython",
    "version": 3
   },
   "file_extension": ".py",
   "mimetype": "text/x-python",
   "name": "python",
   "nbconvert_exporter": "python",
   "pygments_lexer": "ipython3",
   "version": "3.10.9"
  }
 },
 "nbformat": 4,
 "nbformat_minor": 2
}
