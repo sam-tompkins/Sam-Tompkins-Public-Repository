{
 "cells": [
  {
   "cell_type": "code",
   "execution_count": 13,
   "metadata": {},
   "outputs": [
    {
     "name": "stderr",
     "output_type": "stream",
     "text": [
      "C:\\Users\\samto\\AppData\\Local\\Temp\\ipykernel_18152\\1019498759.py:32: FutureWarning: DataFrame.fillna with 'method' is deprecated and will raise in a future version. Use obj.ffill() or obj.bfill() instead.\n",
      "  merge_data = ticker.join(macro_data, how='left').fillna(method='ffill')\n"
     ]
    }
   ],
   "source": [
    "\n",
    "import torch\n",
    "import numpy as np\n",
    "import matplotlib.pyplot as plt\n",
    "import torch.nn as nn\n",
    "import torch.optim as optim\n",
    "from sklearn.preprocessing import StandardScaler\n",
    "from sklearn.metrics import accuracy_score\n",
    "import pandas as pd\n",
    "import tkinter as tk\n",
    "from tkinter import filedialog\n",
    "import pandas_ta as ta\n",
    "from sklearn.model_selection import TimeSeriesSplit\n",
    "from torch.nn.utils.rnn import pad_sequence\n",
    "\n",
    "root = tk.Tk()\n",
    "root.wm_attributes('-topmost', 1)\n",
    "root.withdraw()\n",
    "\n",
    "\n",
    "file_path = filedialog.askopenfilename(parent=root, title=\"Select A File\")\n",
    "ticker = pd.read_csv(file_path)\n",
    "\n",
    "macro_path = filedialog.askopenfilename(parent=root, title=\"Import Macroeconomic Data\")\n",
    "macro_data = pd.read_csv(macro_path)\n",
    "\n",
    "ticker['Date'] = pd.to_datetime(ticker['Date'], dayfirst=True)\n",
    "ticker.set_index('Date', inplace=True)\n",
    "\n",
    "macro_data['date'] = pd.to_datetime(macro_data['date'], dayfirst=True)\n",
    "macro_data.set_index('date', inplace=True)\n",
    "\n",
    "merge_data = ticker.join(macro_data, how='left').fillna(method='ffill')\n",
    "\n",
    "merge_data.to_csv(r\"C:\\Users\\samto\\Desktop\\IRP_DATA\\stock_data_with_macro_daily.csv\")\n"
   ]
  }
 ],
 "metadata": {
  "kernelspec": {
   "display_name": "base",
   "language": "python",
   "name": "python3"
  },
  "language_info": {
   "codemirror_mode": {
    "name": "ipython",
    "version": 3
   },
   "file_extension": ".py",
   "mimetype": "text/x-python",
   "name": "python",
   "nbconvert_exporter": "python",
   "pygments_lexer": "ipython3",
   "version": "3.11.9"
  }
 },
 "nbformat": 4,
 "nbformat_minor": 2
}
